{
  "cells": [
    {
      "cell_type": "markdown",
      "metadata": {
        "id": "view-in-github",
        "colab_type": "text"
      },
      "source": [
        "<a href=\"https://colab.research.google.com/github/Blackgale/Desafio-Spoof-or-Live/blob/main/C%C3%B3pia_de_Desafio_Most.ipynb\" target=\"_parent\"><img src=\"https://colab.research.google.com/assets/colab-badge.svg\" alt=\"Open In Colab\"/></a>"
      ]
    },
    {
      "cell_type": "code",
      "execution_count": null,
      "metadata": {
        "id": "hudC0764cDYU"
      },
      "outputs": [],
      "source": [
        "import csv\n",
        "import sys\n",
        "import numpy as np\n",
        "import time\n",
        "import argparse\n",
        "from sklearn.ensemble import ExtraTreesClassifier"
      ]
    },
    {
      "cell_type": "code",
      "execution_count": null,
      "metadata": {
        "id": "vR5Q1y0T5Nlo"
      },
      "outputs": [],
      "source": [
        "import torch\n",
        "from torch import nn\n",
        "from torch.utils.data import DataLoader, Dataset\n",
        "from torchvision import transforms\n",
        "from PIL import Image\n",
        "import os"
      ]
    },
    {
      "cell_type": "code",
      "execution_count": null,
      "metadata": {
        "colab": {
          "base_uri": "https://localhost:8080/"
        },
        "id": "WyuUbznw56wz",
        "outputId": "2ef96cf1-4f73-4f5e-bb60-5d6c31384ff2"
      },
      "outputs": [
        {
          "output_type": "stream",
          "name": "stdout",
          "text": [
            "Mounted at /content/drive\n"
          ]
        }
      ],
      "source": [
        "from google.colab import drive\n",
        "from PIL import Image\n",
        "import os\n",
        "\n",
        "# Montar o Google Drive\n",
        "drive.mount('/content/drive')\n",
        "\n",
        "# Definir o caminho para a pasta de imagens no Google Drive\n",
        "folder_path = '/content/drive/MyDrive/MLChallenge_Dataset/Data'\n",
        "\n",
        "# Listar os arquivos na pasta\n",
        "files = os.listdir(folder_path)\n",
        "\n",
        "# Loop pelos arquivos e ler as imagens\n",
        "for file in files:\n",
        "    # Criar o caminho completo para o arquivo\n",
        "    file_path = os.path.join(folder_path, file)\n",
        "\n",
        "    # Verificar se o arquivo é uma imagem\n",
        "    if file_path.endswith('.jpg') or file_path.endswith('.png'):\n",
        "        # Abrir a imagem usando a biblioteca PIL\n",
        "        image = Image.open(file_path)\n",
        "\n",
        "        # Mostrar a imagem\n",
        "        image.show()\n"
      ]
    },
    {
      "cell_type": "code",
      "execution_count": null,
      "metadata": {
        "id": "NELlFw8g4CvK"
      },
      "outputs": [],
      "source": [
        "live_folder_path = '/content/drive/MyDrive/MLChallenge_Dataset/Data/live'\n",
        "spoof_folder_path = '/content/drive/MyDrive/MLChallenge_Dataset/Data/spoof'"
      ]
    },
    {
      "cell_type": "code",
      "execution_count": null,
      "metadata": {
        "id": "RakWuO5S2TUg"
      },
      "outputs": [],
      "source": [
        "data_transforms = transforms.Compose([\n",
        "    transforms.Resize((64, 64)),\n",
        "    transforms.ToTensor()\n",
        "])"
      ]
    },
    {
      "cell_type": "code",
      "execution_count": null,
      "metadata": {
        "id": "fnsoF4jn5kdB"
      },
      "outputs": [],
      "source": [
        "class LiveSpoofDataset(Dataset):\n",
        "    def __init__(self, data_folder_path, transform=None):\n",
        "        self.data_folder_path = data_folder_path\n",
        "        self.transform = transform\n",
        "\n",
        "        # Listar os arquivos nas pastas\n",
        "        self.live_files = []\n",
        "        self.spoof_files = []\n",
        "        for subfolder in os.listdir(data_folder_path):\n",
        "            subfolder_path = os.path.join(data_folder_path, subfolder)\n",
        "            if os.path.isdir(subfolder_path):\n",
        "                live_subfolder_path = os.path.join(subfolder_path, 'live')\n",
        "                if os.path.isdir(live_subfolder_path):\n",
        "                    for file in os.listdir(live_subfolder_path):\n",
        "                        file_path = os.path.join(live_subfolder_path, file)\n",
        "                        self.live_files.append(file_path)\n",
        "\n",
        "                spoof_subfolder_path = os.path.join(subfolder_path, 'spoof')\n",
        "                if os.path.isdir(spoof_subfolder_path):\n",
        "                    for file in os.listdir(spoof_subfolder_path):\n",
        "                        file_path = os.path.join(spoof_subfolder_path, file)\n",
        "                        self.spoof_files.append(file_path)\n",
        "\n",
        "    def __len__(self):\n",
        "        return len(self.live_files) + len(self.spoof_files)\n",
        "\n",
        "    def __getitem__(self, idx):\n",
        "        if idx < len(self.live_files):\n",
        "            # Ler uma imagem live\n",
        "            file_path = self.live_files[idx]\n",
        "            image = Image.open(file_path)\n",
        "            label = 0 # live\n",
        "        else:\n",
        "            # Ler uma imagem spoof\n",
        "            idx -= len(self.live_files)\n",
        "            file_path = self.spoof_files[idx]\n",
        "            image = Image.open(file_path)\n",
        "            label = 1 # spoof\n",
        "\n",
        "        # Aplicar transformações na imagem\n",
        "        if self.transform:\n",
        "            image = self.transform(image)\n",
        "\n",
        "        return image, label\n"
      ]
    },
    {
      "cell_type": "code",
      "execution_count": null,
      "metadata": {
        "id": "8h9PbnQA7fLq"
      },
      "outputs": [],
      "source": [
        "data_folder_path = '/content/drive/MyDrive/MLChallenge_Dataset/Data'\n",
        "dataset = LiveSpoofDataset(data_folder_path, transform=data_transforms)\n"
      ]
    },
    {
      "cell_type": "code",
      "execution_count": null,
      "metadata": {
        "id": "Nbcmyie2JoJb"
      },
      "outputs": [],
      "source": [
        "train_size = int(0.8 * len(dataset))\n",
        "test_size = len(dataset) - train_size\n",
        "train_dataset, test_dataset = torch.utils.data.random_split(dataset, [train_size, test_size])"
      ]
    },
    {
      "cell_type": "code",
      "execution_count": null,
      "metadata": {
        "id": "YCRqBOsrJrBj"
      },
      "outputs": [],
      "source": [
        "# Criar DataLoaders para os conjuntos de treinamento e teste\n",
        "train_loader = DataLoader(train_dataset, batch_size=16, shuffle=True)\n",
        "test_loader = DataLoader(test_dataset, batch_size=16)"
      ]
    },
    {
      "cell_type": "code",
      "execution_count": null,
      "metadata": {
        "id": "9eUliur3Jtiz"
      },
      "outputs": [],
      "source": [
        "# Definir o modelo\n",
        "model = nn.Sequential(\n",
        "    nn.Conv2d(3, 32, kernel_size=3, padding=1),\n",
        "    nn.ReLU(),\n",
        "    nn.MaxPool2d(2),\n",
        "    nn.Conv2d(32, 64, kernel_size=3, padding=1),\n",
        "    nn.ReLU(),\n",
        "    nn.MaxPool2d(2),\n",
        "    nn.Flatten(),\n",
        "    nn.Linear(64 * 16 * 16, 256),\n",
        "    nn.ReLU(),\n",
        "    nn.Linear(256, 1),\n",
        "    nn.Sigmoid()\n",
        ")\n"
      ]
    },
    {
      "cell_type": "code",
      "execution_count": null,
      "metadata": {
        "id": "D3J40ZSMJxaV"
      },
      "outputs": [],
      "source": [
        "# Definir a função de perda e o otimizador\n",
        "criterion = nn.BCELoss()\n",
        "optimizer = torch.optim.Adam(model.parameters())"
      ]
    },
    {
      "cell_type": "code",
      "execution_count": null,
      "metadata": {
        "colab": {
          "base_uri": "https://localhost:8080/"
        },
        "id": "1uvKOeWoJ7T8",
        "outputId": "9436d4f3-3551-4109-c86e-96480a0de8d5"
      },
      "outputs": [
        {
          "output_type": "execute_result",
          "data": {
            "text/plain": [
              "Sequential(\n",
              "  (0): Conv2d(3, 32, kernel_size=(3, 3), stride=(1, 1), padding=(1, 1))\n",
              "  (1): ReLU()\n",
              "  (2): MaxPool2d(kernel_size=2, stride=2, padding=0, dilation=1, ceil_mode=False)\n",
              "  (3): Conv2d(32, 64, kernel_size=(3, 3), stride=(1, 1), padding=(1, 1))\n",
              "  (4): ReLU()\n",
              "  (5): MaxPool2d(kernel_size=2, stride=2, padding=0, dilation=1, ceil_mode=False)\n",
              "  (6): Flatten(start_dim=1, end_dim=-1)\n",
              "  (7): Linear(in_features=16384, out_features=256, bias=True)\n",
              "  (8): ReLU()\n",
              "  (9): Linear(in_features=256, out_features=1, bias=True)\n",
              "  (10): Sigmoid()\n",
              ")"
            ]
          },
          "metadata": {},
          "execution_count": 12
        }
      ],
      "source": [
        "# Definir o dispositivo para executar o treinamento\n",
        "device = torch.device('cuda' if torch.cuda.is_available() else 'cpu')\n",
        "# Mover o modelo para o dispositivo\n",
        "model.to(device)"
      ]
    },
    {
      "cell_type": "code",
      "execution_count": null,
      "metadata": {
        "id": "A-jmAepFbMW4",
        "colab": {
          "base_uri": "https://localhost:8080/"
        },
        "outputId": "5ef6b90f-5315-4c1b-f2ef-2173328a6830"
      },
      "outputs": [
        {
          "output_type": "stream",
          "name": "stdout",
          "text": [
            "Epoch: 1/10, Loss: 0.5380, Accuracy: 0.9025\n",
            "Epoch: 2/10, Loss: 0.1611, Accuracy: 0.9323\n",
            "Epoch: 3/10, Loss: 0.0064, Accuracy: 0.9314\n",
            "Epoch: 4/10, Loss: 0.0095, Accuracy: 0.9371\n",
            "Epoch: 5/10, Loss: 0.1712, Accuracy: 0.9374\n",
            "Epoch: 6/10, Loss: 0.0004, Accuracy: 0.9139\n",
            "Epoch: 7/10, Loss: 0.0002, Accuracy: 0.9113\n",
            "Epoch: 8/10, Loss: 0.0293, Accuracy: 0.9352\n",
            "Epoch: 9/10, Loss: 0.0000, Accuracy: 0.9367\n",
            "Epoch: 10/10, Loss: 0.0000, Accuracy: 0.9342\n"
          ]
        }
      ],
      "source": [
        "# Treinar o modelo\n",
        "num_epochs = 10\n",
        "for epoch in range(num_epochs):\n",
        "    # Colocar o modelo em modo de treinamento\n",
        "    model.train()\n",
        "\n",
        "    # Loop pelos batches de dados de treinamento\n",
        "    for X_batch, y_batch in train_loader:\n",
        "        # Mover os dados para o dispositivo\n",
        "        X_batch = X_batch.to(device)\n",
        "        y_batch = y_batch.to(device)\n",
        "\n",
        "        # Calcular a saída do modelo\n",
        "        outputs = model(X_batch).squeeze()\n",
        "\n",
        "        # Calcular a perda\n",
        "        loss = criterion(outputs, y_batch.float())\n",
        "\n",
        "        # Retropropagar a perda e atualizar os pesos do modelo\n",
        "        optimizer.zero_grad()\n",
        "        loss.backward()\n",
        "        optimizer.step()\n",
        "\n",
        "    # Colocar o modelo em modo de avaliação\n",
        "    model.eval()\n",
        "\n",
        "    # Calcular a acurácia no conjunto de teste\n",
        "    correct = 0\n",
        "    total = 0\n",
        "    with torch.no_grad():\n",
        "        for X_batch, y_batch in test_loader:\n",
        "            # Mover os dados para o dispositivo\n",
        "            X_batch = X_batch.to(device)\n",
        "            y_batch = y_batch.to(device)\n",
        "\n",
        "            # Calcular a saída do modelo\n",
        "            outputs = model(X_batch).squeeze()\n",
        "\n",
        "            # Converter as saídas em previsões de classe (0 ou 1)\n",
        "            predicted = (outputs > 0.5).long()\n",
        "\n",
        "            # Calcular o número de previsões corretas\n",
        "            correct += (predicted == y_batch).sum().item()\n",
        "            total += y_batch.size(0)\n",
        "\n",
        "    accuracy = correct / total\n",
        "\n",
        "    print(f'Epoch: {epoch + 1}/{num_epochs}, Loss: {loss.item():.4f}, Accuracy: {accuracy:.4f}')"
      ]
    },
    {
      "cell_type": "code",
      "source": [
        "# Treinar o modelo\n",
        "num_epochs = 10\n",
        "for epoch in range(num_epochs):\n",
        "    # Colocar o modelo em modo de treinamento\n",
        "    model.train()\n",
        "\n",
        "    # Loop pelos batches de dados de treinamento\n",
        "    for X_batch, y_batch in train_loader:\n",
        "        # Mover os dados para o dispositivo\n",
        "        X_batch = X_batch.to(device)\n",
        "        y_batch = y_batch.to(device)\n",
        "\n",
        "        # Calcular a saída do modelo\n",
        "        outputs = model(X_batch).squeeze()\n",
        "\n",
        "        # Calcular a perda\n",
        "        loss = criterion(outputs, y_batch.float())\n",
        "\n",
        "        # Retropropagar a perda e atualizar os pesos do modelo\n",
        "        optimizer.zero_grad()\n",
        "        loss.backward()\n",
        "        optimizer.step()\n",
        "\n",
        "    # Colocar o modelo em modo de avaliação\n",
        "    model.eval()\n",
        "\n",
        "    # Calcular a acurácia no conjunto de teste\n",
        "    correct = 0\n",
        "    total = 0\n",
        "    with torch.no_grad():\n",
        "        for X_batch, y_batch in test_loader:\n",
        "            # Mover os dados para o dispositivo\n",
        "            X_batch = X_batch.to(device)\n",
        "            y_batch = y_batch.to(device)\n",
        "\n",
        "            # Calcular a saída do modelo\n",
        "            outputs = model(X_batch).squeeze()\n",
        "\n",
        "            # Converter as saídas em previsões de classe (0 ou 1)\n",
        "            predicted = (outputs > 0.5).long()\n",
        "\n",
        "            # Calcular o número de previsões corretas\n",
        "            correct += (predicted == y_batch).sum().item()\n",
        "            total += y_batch.size(0)\n",
        "\n",
        "    accuracy = correct / total\n",
        "\n",
        "    print(f'Epoch: {epoch + 1}/{num_epochs}, Loss: {loss.item():.4f}, Accuracy: {accuracy:.4f}')"
      ],
      "metadata": {
        "colab": {
          "base_uri": "https://localhost:8080/"
        },
        "id": "CPLdxv8fmYBs",
        "outputId": "8d6ffd4e-17bf-4edf-a440-e45f169e6d62"
      },
      "execution_count": null,
      "outputs": [
        {
          "output_type": "stream",
          "name": "stdout",
          "text": [
            "Epoch: 1/10, Loss: 0.0000, Accuracy: 0.9362\n",
            "Epoch: 2/10, Loss: 0.0056, Accuracy: 0.9343\n",
            "Epoch: 3/10, Loss: 0.8275, Accuracy: 0.9278\n",
            "Epoch: 4/10, Loss: 0.0009, Accuracy: 0.9171\n",
            "Epoch: 5/10, Loss: 0.0005, Accuracy: 0.9340\n",
            "Epoch: 6/10, Loss: 0.0000, Accuracy: 0.9240\n",
            "Epoch: 7/10, Loss: 0.0000, Accuracy: 0.9324\n",
            "Epoch: 8/10, Loss: 0.0000, Accuracy: 0.9326\n",
            "Epoch: 9/10, Loss: 0.0001, Accuracy: 0.9388\n",
            "Epoch: 10/10, Loss: 0.0000, Accuracy: 0.9386\n"
          ]
        }
      ]
    },
    {
      "cell_type": "code",
      "source": [
        "# Criar conjuntos de teste separados para imagens live e spoof\n",
        "test_live_dataset = [x for x in test_dataset if x[1] == 0]\n",
        "test_spoof_dataset = [x for x in test_dataset if x[1] == 1]\n",
        "\n",
        "# Colocar o modelo em modo de avaliação\n",
        "model.eval()\n",
        "\n",
        "# Calcular a acurácia no conjunto de teste live\n",
        "correct = 0\n",
        "total = 0\n",
        "with torch.no_grad():\n",
        "    for X, y in test_live_dataset:\n",
        "        # Mover os dados para o dispositivo\n",
        "        X = X.to(device)\n",
        "        if not isinstance(y, torch.Tensor):\n",
        "            y = torch.tensor(y)\n",
        "        y = y.to(device)\n",
        "\n",
        "        # Calcular a saída do modelo\n",
        "        output = model(X.unsqueeze(0)).squeeze()\n",
        "\n",
        "        # Converter a saída em uma previsão de classe (0 ou 1)\n",
        "        predicted = (output > 0.5).long()\n",
        "\n",
        "        # Calcular o número de previsões corretas\n",
        "        correct += (predicted == y).sum().item()\n",
        "        total += 1\n",
        "\n",
        "live_accuracy = correct / total\n",
        "\n",
        "# Calcular a acurácia no conjunto de teste spoof\n",
        "correct = 0\n",
        "total = 0\n",
        "with torch.no_grad():\n",
        "    for X, y in test_spoof_dataset:\n",
        "        # Mover os dados para o dispositivo\n",
        "        X = X.to(device)\n",
        "        if not isinstance(y, torch.Tensor):\n",
        "            y = torch.tensor(y)\n",
        "        y = y.to(device)\n",
        "\n",
        "        # Calcular a saída do modelo\n",
        "        output = model(X.unsqueeze(0)).squeeze()\n",
        "\n",
        "        # Converter a saída em uma previsão de classe (0 ou 1)\n",
        "        predicted = (output > 0.5).long()\n",
        "\n",
        "        # Calcular o número de previsões corretas\n",
        "        correct += (predicted == y).sum().item()\n",
        "        total += 1\n",
        "\n",
        "spoof_accuracy = correct / total\n",
        "\n",
        "print(f'Live accuracy: {live_accuracy:.4f}, Spoof accuracy: {spoof_accuracy:.4f}')\n"
      ],
      "metadata": {
        "colab": {
          "base_uri": "https://localhost:8080/"
        },
        "id": "SKTN-1R_cngw",
        "outputId": "9a1754a8-bff3-4571-f3c8-bb14d46c8ba4"
      },
      "execution_count": null,
      "outputs": [
        {
          "output_type": "stream",
          "name": "stdout",
          "text": [
            "Live accuracy: 0.8722, Spoof accuracy: 0.9717\n"
          ]
        }
      ]
    },
    {
      "cell_type": "code",
      "source": [
        "def predict_image(image_path, model, transform, device):\n",
        "    # Ler a imagem do arquivo\n",
        "    image = Image.open(image_path)\n",
        "\n",
        "    # Aplicar transformações na imagem\n",
        "    if transform:\n",
        "        image = transform(image)\n",
        "\n",
        "    # Mover a imagem para o dispositivo\n",
        "    image = image.to(device)\n",
        "\n",
        "    # Colocar o modelo em modo de avaliação\n",
        "    model.eval()\n",
        "\n",
        "    # Calcular a saída do modelo\n",
        "    output = model(image.unsqueeze(0)).squeeze()\n",
        "\n",
        "    # Converter a saída em uma previsão de classe (0 ou 1)\n",
        "    y_pred = (output > 0.5).long().item()\n",
        "\n",
        "    return y_pred\n",
        "\n",
        "image_path = '/content/Portrait_female_Midjourney.jpg'\n",
        "y_pred = predict_image(image_path, model, data_transforms, device)\n",
        "\n",
        "if y_pred == 0:\n",
        "    print('The image is predicted to be live')\n",
        "else:\n",
        "    print('The image is predicted to be spoof')"
      ],
      "metadata": {
        "colab": {
          "base_uri": "https://localhost:8080/"
        },
        "id": "izZmp9YQh7po",
        "outputId": "fefccd8e-c077-444d-c12e-19f53746ec7b"
      },
      "execution_count": null,
      "outputs": [
        {
          "output_type": "stream",
          "name": "stdout",
          "text": [
            "The image is predicted to be spoof\n"
          ]
        }
      ]
    }
  ],
  "metadata": {
    "colab": {
      "provenance": [],
      "authorship_tag": "ABX9TyNZEwTe/S9Y0seOiUMwYhne",
      "include_colab_link": true
    },
    "kernelspec": {
      "display_name": "Python 3",
      "name": "python3"
    },
    "language_info": {
      "name": "python"
    }
  },
  "nbformat": 4,
  "nbformat_minor": 0
}